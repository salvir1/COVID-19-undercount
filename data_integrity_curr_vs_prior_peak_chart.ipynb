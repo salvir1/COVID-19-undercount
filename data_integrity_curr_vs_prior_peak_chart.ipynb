{
 "cells": [
  {
   "cell_type": "markdown",
   "metadata": {},
   "source": [
    "## COVID daily case count data integrity issue\n",
    "\n",
    "This notebook explores a data integrity issue with the COVID daily case count data. The rate at which actual infections have been confirmed with a case diagnosis has not been constant throughout the course of the pandemic. Undercounting was most acute during the early stages of the pandemic. This article demonstrates how the well-known, but not necessarily well-understood, data integrity issue of undercounting can impact time period comparisons of the daily antigen case diagnosis data.\n",
    "\n",
    "The point of illustration centers around a chart that appeared in the New York Times on February 7, 2021. This chart was recreated. Three similar charts were created for comparison using the same data except for changes that were made to try to adjust for the data integrity issue.\n",
    "\n",
    "For further discussion, see the file [undercount_discussion.md](undercount_discussion.md).\n",
    "\n",
    "## Tools and techniques used in this project\n",
    "- **Tools**\n",
    "> - Python, Pandas, Numpy, Markdown\n",
    "- **Visualization**\n",
    "> - Matplotlib, Plotly\n",
    "- **Techniques**\n",
    "> - Datetime, Data Integrity Evaluation, Simple Moving Average, Linear Regression\n",
    "\n"
   ]
  },
  {
   "cell_type": "code",
   "execution_count": 31,
   "metadata": {},
   "outputs": [],
   "source": [
    "import pandas as pd\n",
    "import numpy as np\n",
    "import datetime\n",
    "from datetime import timedelta\n",
    "import matplotlib.pyplot as plt"
   ]
  },
  {
   "cell_type": "code",
   "execution_count": 32,
   "metadata": {},
   "outputs": [],
   "source": [
    "from urllib.request import urlopen\n",
    "import plotly.express as px\n",
    "import json\n",
    "with urlopen('https://raw.githubusercontent.com/plotly/datasets/master/geojson-counties-fips.json') as response:\n",
    "    counties = json.load(response)\n"
   ]
  },
  {
   "cell_type": "markdown",
   "metadata": {},
   "source": [
    "## Load and prep data tables"
   ]
  },
  {
   "cell_type": "code",
   "execution_count": 33,
   "metadata": {},
   "outputs": [],
   "source": [
    "covid_df = pd.read_csv('https://raw.githubusercontent.com/nytimes/covid-19-data/master/us-counties.csv', dtype={\"fips\": str}, parse_dates=['date'])"
   ]
  },
  {
   "cell_type": "code",
   "execution_count": null,
   "metadata": {},
   "outputs": [],
   "source": [
    "# Create a dataframe for counties which will be used later.\n",
    "counties_df = covid_df.groupby(['fips', 'county', 'state']).agg(FIPS = ('fips', 'max'),\n",
    "                                                              COUNTY = ('county', 'max'),\n",
    "                                                              ST = ('state', 'max')\n",
    "                                                             ).reset_index()[['FIPS', 'COUNTY', 'ST']]"
   ]
  },
  {
   "cell_type": "code",
   "execution_count": null,
   "metadata": {},
   "outputs": [],
   "source": [
    "# NYT covid cases are cumulative. Calculate incremental new cases for each county (fips).\n",
    "covid_df['daily_cases'] = covid_df.groupby('fips')['cases'].diff().fillna(0)"
   ]
  },
  {
   "cell_type": "code",
   "execution_count": null,
   "metadata": {},
   "outputs": [],
   "source": [
    "# Let's recalibrate the case numbers a few ways to attempt to correct for undercount rate. \n",
    "covid_df['daily_cases_low'] = np.where(covid_df['date']<'2020-06-01', covid_df['cases_new']*4, \n",
    "                                     covid_df['cases_new']*2.1)\n",
    "\n",
    "covid_df['daily_cases_med'] = np.where(covid_df['date']<'2020-06-01', covid_df['cases_new']*5.5, \n",
    "                                     covid_df['cases_new']*2.1)\n",
    "\n",
    "covid_df['daily_cases_high'] = np.where(covid_df['date']<'2020-06-01', covid_df['cases_new']*7, \n",
    "                                     covid_df['cases_new']*2.1)"
   ]
  },
  {
   "cell_type": "code",
   "execution_count": null,
   "metadata": {},
   "outputs": [],
   "source": [
    "def safe_div(x, y):\n",
    "    try:\n",
    "        return x/y\n",
    "    except ZeroDivisionError:\n",
    "        return 0"
   ]
  },
  {
   "cell_type": "code",
   "execution_count": null,
   "metadata": {},
   "outputs": [],
   "source": [
    "def add_sma_and_ratio(cvd_df, case_column):\n",
    "    '''\n",
    "    First, calculate the simple moving average (SMA) for each county (fips).\n",
    "    Next, calculate the datapoints that are used in the NYT charts--SMA peak prior \n",
    "    to Oct 1 and weekly average prior to Feb 6, 2021 (I am using ave of SMA).\n",
    "    Parameters:\n",
    "    cvd_df: pandas dataframe\n",
    "    case_column: column name of the pandas dataframe to use as input\n",
    "    Returns:\n",
    "    Pandas series of the computed current to peak ratio per county\n",
    "    '''\n",
    "    county_SMA = []\n",
    "    for fips_ in cvd_df['fips'].unique():\n",
    "        county_df = cvd_df[cvd_df['fips']==fips_]\n",
    "        county_SMA.append(county_df[case_column].rolling(window=7).mean())\n",
    "    cvd_df[case_column] = pd.concat(county_SMA)\n",
    "\n",
    "    county_prev_peak, county_curr_ave = [], []\n",
    "    for fips_ in counties_df['FIPS'].unique():\n",
    "        county_prev_peak.append(cvd_df[(cvd_df['fips']==fips_) & (cvd_df['date'] < '2020-10-01')][case_column].max())\n",
    "        county_curr_ave.append(cvd_df[(cvd_df['fips']==fips_) & (cvd_df['date'] > '2020-10-01') & \n",
    "                                   (cvd_df['date'] < '2021-02-06')][case_column][-7:].mean())\n",
    "\n",
    "    return [safe_div(county_curr_ave[i], county_prev_peak[i]) for i in range(len(county_curr_ave))]\n",
    "    "
   ]
  },
  {
   "cell_type": "code",
   "execution_count": null,
   "metadata": {},
   "outputs": [],
   "source": [
    "counties_df['Curr to Peak'] = add_sma_and_ratio(covid_df, 'daily_cases')\n",
    "counties_df['Curr to Peak: Low Recalibration'] = add_sma_and_ratio(covid_df, 'daily_cases_low')\n",
    "counties_df['Curr to Peak: Med Recalibration'] = add_sma_and_ratio(covid_df, 'daily_cases_med')\n",
    "counties_df['Curr to Peak: High Recalibration'] = add_sma_and_ratio(covid_df, 'daily_cases_high')\n",
    "\n",
    "# The above calculations take a while to run. It's best to export the CSV to save it and then\n",
    "# import it again when needed.\n",
    "counties_df.to_csv('../data/covid_curr_to_peak_comparison_3x.csv')"
   ]
  },
  {
   "cell_type": "code",
   "execution_count": 16,
   "metadata": {},
   "outputs": [],
   "source": [
    "counties_df = pd.read_csv('../data/covid_curr_to_peak_comparison_3x.csv', dtype={\"FIPS\": str})"
   ]
  },
  {
   "cell_type": "code",
   "execution_count": 26,
   "metadata": {},
   "outputs": [],
   "source": [
    "def make_comparative_chart(df, data_column, title, footnote_1, footnote_2, img_file_root):\n",
    "    '''\n",
    "    Construct a Plotly chloropleth US map at the county level comparing the current case rate to the peak rate\n",
    "    prior to 10/1/20. \n",
    "    Parameters:\n",
    "    -----------\n",
    "    df: input dataframe\n",
    "    data_column: data column name\n",
    "    title, footnote_1, footnote_2, img_file_root: strings\n",
    "    Returns:\n",
    "    --------\n",
    "    NA\n",
    "    '''\n",
    "    fig = px.choropleth_mapbox(df, geojson=counties, locations='FIPS', color=data_column,\n",
    "                               color_continuous_scale = ['green', 'yellow', 'red'],\n",
    "                               range_color=(0, 3),\n",
    "                               mapbox_style=\"carto-positron\",\n",
    "                               zoom=2.8, center = {\"lat\": 37.0902, \"lon\": -95.7129},\n",
    "                               opacity=0.3,\n",
    "                               labels ={data_column: 'Curr to Peak'}\n",
    "                              )\n",
    "    fig.update_layout(margin={\"r\":0,\"t\":25,\"l\":0,\"b\":25},\n",
    "                    title_text = title,\n",
    "                    geo_scope='usa', # limit map scope to USA\n",
    "                    annotations = [dict(x=0.55, y=0.065, text=footnote_1, showarrow = False), \n",
    "                               dict(x=0.55, y=0.025, text=footnote_2, showarrow = False)]\n",
    "                    )\n",
    "    fig.write_html(f'img/{img_file_root}.html', auto_open=False)\n",
    "    fig.write_image(f\"img/{img_file_root}.png\")\n"
   ]
  },
  {
   "cell_type": "code",
   "execution_count": 27,
   "metadata": {},
   "outputs": [],
   "source": [
    "make_comparative_chart(df=counties_df, data_column='Curr to Peak', \n",
    "                       title='Average daily new coronavirus cases (uncalibrated data) compared with previous peak',\n",
    "                      footnote_1='Original Source: New York Times database of reports from state and local health agencies',\n",
    "                      footnote_2=' ',\n",
    "                      img_file_root='curr_vs_peak_covid')"
   ]
  },
  {
   "cell_type": "code",
   "execution_count": 28,
   "metadata": {},
   "outputs": [],
   "source": [
    "make_comparative_chart(df=counties_df, data_column='Curr to Peak: Low Recalibration', \n",
    "                       title='Average daily new coronavirus cases (low recalibration) compared with previous peak',\n",
    "                      footnote_1='Original Source: New York Times database of reports from state and local health agencies',\n",
    "                      footnote_2='Modifications based on CDC National Commercial Laboratory Seroprevalence Survey',\n",
    "                      img_file_root='low_recal_curr_vs_peak_covid')"
   ]
  },
  {
   "cell_type": "code",
   "execution_count": 29,
   "metadata": {},
   "outputs": [],
   "source": [
    "make_comparative_chart(df=counties_df, data_column='Curr to Peak: Med Recalibration', \n",
    "                       title='Average daily new coronavirus cases (med. recalibration) compared with previous peak',\n",
    "                      footnote_1='Original Source: New York Times database of reports from state and local health agencies',\n",
    "                      footnote_2='Modifications based on CDC National Commercial Laboratory Seroprevalence Survey',\n",
    "                      img_file_root='med_recal_curr_vs_peak_covid')"
   ]
  },
  {
   "cell_type": "code",
   "execution_count": 30,
   "metadata": {},
   "outputs": [],
   "source": [
    "make_comparative_chart(df=counties_df, data_column='Curr to Peak: High Recalibration', \n",
    "                       title='Average daily new coronavirus cases (high recalibration) compared with previous peak',\n",
    "                      footnote_1='Original Source: New York Times database of reports from state and local health agencies',\n",
    "                      footnote_2='Modifications based on CDC National Commercial Laboratory Seroprevalence Survey',\n",
    "                      img_file_root='high_recal_curr_vs_peak_covid')"
   ]
  },
  {
   "cell_type": "code",
   "execution_count": null,
   "metadata": {},
   "outputs": [],
   "source": []
  }
 ],
 "metadata": {
  "kernelspec": {
   "display_name": "Python 3",
   "language": "python",
   "name": "python3"
  },
  "language_info": {
   "codemirror_mode": {
    "name": "ipython",
    "version": 3
   },
   "file_extension": ".py",
   "mimetype": "text/x-python",
   "name": "python",
   "nbconvert_exporter": "python",
   "pygments_lexer": "ipython3",
   "version": "3.7.7"
  }
 },
 "nbformat": 4,
 "nbformat_minor": 4
}
