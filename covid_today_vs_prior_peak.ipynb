{
 "cells": [
  {
   "cell_type": "code",
   "execution_count": 1,
   "metadata": {},
   "outputs": [],
   "source": [
    "import pandas as pd\n",
    "import numpy as np\n",
    "import datetime\n",
    "from datetime import timedelta\n",
    "import matplotlib.pyplot as plt\n",
    "from pandas.plotting import scatter_matrix\n",
    "from sklearn.linear_model import LinearRegression"
   ]
  },
  {
   "cell_type": "code",
   "execution_count": 2,
   "metadata": {},
   "outputs": [],
   "source": [
    "from urllib.request import urlopen\n",
    "import plotly.express as px\n",
    "import json\n",
    "with urlopen('https://raw.githubusercontent.com/plotly/datasets/master/geojson-counties-fips.json') as response:\n",
    "    counties = json.load(response)\n",
    "\n"
   ]
  },
  {
   "cell_type": "markdown",
   "metadata": {},
   "source": [
    "## Load and prep data tables"
   ]
  },
  {
   "cell_type": "code",
   "execution_count": 3,
   "metadata": {},
   "outputs": [],
   "source": [
    "covid_df = pd.read_csv('https://raw.githubusercontent.com/nytimes/covid-19-data/master/us-counties.csv', dtype={\"fips\": str}, parse_dates=['date'])"
   ]
  },
  {
   "cell_type": "code",
   "execution_count": 4,
   "metadata": {},
   "outputs": [],
   "source": [
    "# Create a dataframe for counties which will be used later.\n",
    "counties_df = covid_df.groupby(['fips', 'county', 'state']).agg(FIPS = ('fips', 'max'),\n",
    "                                                              COUNTY = ('county', 'max'),\n",
    "                                                              ST = ('state', 'max')\n",
    "                                                             ).reset_index()[['FIPS', 'COUNTY', 'ST']]"
   ]
  },
  {
   "cell_type": "code",
   "execution_count": 5,
   "metadata": {},
   "outputs": [],
   "source": [
    "# NYT covid cases are cumulative. Calculate incremental new cases for each county (fips).\n",
    "covid_df['cases_new'] = covid_df.groupby('fips')['cases'].diff().fillna(0)"
   ]
  },
  {
   "cell_type": "code",
   "execution_count": 7,
   "metadata": {},
   "outputs": [],
   "source": [
    "def county_sma(df, case_column):\n",
    "    '''\n",
    "    First, calculate the smoothed moving average (SMA) for each county (fips).\n",
    "    Next, calculate the datapoints that are used in the NYT charts--SMA peak prior \n",
    "    to Oct 1 and weekly average prior to Feb 6, 2021 (I am using ave of SMA).\n",
    "    Parameters:\n",
    "    df: pandas dataframe\n",
    "    case_column: column name of the pandas dataframe to use as input\n",
    "    Returns:\n",
    "    county_SMA: pandas Series of smoothed moving average of the case count\n",
    "    county_ratio: pandas Series of the ratio of current cases to peak cases\n",
    "    '''\n",
    "    county_SMA = []\n",
    "    for fips_ in covid_df['fips'].unique():\n",
    "        county_df = covid_df[covid_df['fips']==fips_]\n",
    "        county_SMA.append(county_df['cases_new'].rolling(window=7).mean())\n",
    "    covid_df['case_SMA'] = pd.concat(county_SMA)\n",
    "\n",
    "    county_prev_peak, county_curr_ave = [], []\n",
    "    for fips_ in counties_df['FIPS'].unique():\n",
    "        county_prev_peak.append(covid_df[(covid_df['fips']==fips_) & (covid_df['date'] < '2020-10-01')]['case_SMA'].max())\n",
    "        county_curr_ave.append(covid_df[(covid_df['fips']==fips_) & (covid_df['date'] > '2020-10-01') & \n",
    "                                   (covid_df['date'] < '2021-02-06')]['case_SMA'][-7:].mean())\n",
    "\n",
    "    counties_df['curr_ave'] = county_curr_ave\n",
    "    counties_df['prev_peak'] = county_prev_peak\n",
    "    counties_df['Current to Peak Ratio'] = counties_df['curr_ave'] / counties_df['prev_peak'] \n",
    "    "
   ]
  },
  {
   "cell_type": "code",
   "execution_count": 19,
   "metadata": {},
   "outputs": [],
   "source": [
    "# Let's adjust the case numbers to correct for undercount rate and rerun the data and charts.\n",
    "covid_df['cases_new_adj'] = np.where(covid_df['date']<'2020-06-01', covid_df['cases_new']*6, \n",
    "                                     covid_df['cases_new']*2.1)\n"
   ]
  },
  {
   "cell_type": "code",
   "execution_count": 21,
   "metadata": {},
   "outputs": [],
   "source": [
    "# Calculate the smoothed moving average (SMA) for each county (fips).\n",
    "county_SMA = []\n",
    "for fips_ in covid_df['fips'].unique():\n",
    "    county_df = covid_df[covid_df['fips']==fips_]\n",
    "    county_SMA.append(county_df['cases_new_adj'].rolling(window=7).mean())\n",
    "covid_df['case_adj_SMA'] = pd.concat(county_SMA)\n",
    "\n",
    "# Calculate the datapoints that are used in the NYT charts--SMA peak prior to Oct 1 and current average (I am using ave of SMA).\n",
    "county_prev_peak_adj, county_curr_ave_adj = [], []\n",
    "for fips_ in counties_df['FIPS'].unique():\n",
    "    county_prev_peak_adj.append(covid_df[(covid_df['fips']==fips_) & (covid_df['date'] < '2020-10-01')]['case_adj_SMA'].max())\n",
    "    county_curr_ave_adj.append(covid_df[(covid_df['fips']==fips_) & (covid_df['date'] > '2020-10-01') &\n",
    "                                       (covid_df['date'] < '2021-02-06')]['case_adj_SMA'][-7:].mean())\n",
    "\n",
    "counties_df['curr_ave_adj'] = county_curr_ave_adj\n",
    "counties_df['prev_peak_adj'] = county_prev_peak_adj\n",
    "counties_df['Adjusted Current to Peak Ratio'] = counties_df['curr_ave_adj'] / counties_df['prev_peak_adj'] "
   ]
  },
  {
   "cell_type": "code",
   "execution_count": 59,
   "metadata": {},
   "outputs": [],
   "source": [
    "fig = px.choropleth_mapbox(counties_df, geojson=counties, locations='FIPS', color='Adjusted Current to Peak Ratio',\n",
    "                           color_continuous_scale = ['green', 'yellow', 'red'],\n",
    "                           range_color=(0, 3),\n",
    "                           mapbox_style=\"carto-positron\",\n",
    "                           zoom=2.6, center = {\"lat\": 37.0902, \"lon\": -95.7129},\n",
    "                           opacity=0.3,\n",
    "                          )\n",
    "fig.update_layout(margin={\"r\":0,\"t\":25,\"l\":0,\"b\":25},\n",
    "                title_text = 'Average daily new coronavirus cases compared with previous peak',\n",
    "                geo_scope='usa', # limite map scope to USA\n",
    "                annotations = [dict(x=0.55, y=0.065, xref='paper', yref='paper',\n",
    "                                text='Original Source: New York Times database of reports from state and local health agencies',\n",
    "                                showarrow = False\n",
    "                                ), dict(x=0.55, y=0.025, xref='paper', yref='paper',\n",
    "                                text='Modifications based on CDC National Commercial Laboratory Seroprevalence Survey',\n",
    "                                showarrow = False\n",
    "                                )]\n",
    "                )\n",
    "fig.write_image(\"img/adj_curr_vs_peak_covid.png\")\n",
    "fig.write_html('img/adj_curr_vs_peak_covid.html', auto_open=False)\n"
   ]
  },
  {
   "cell_type": "code",
   "execution_count": 17,
   "metadata": {},
   "outputs": [],
   "source": [
    "fig = px.choropleth_mapbox(counties_df, geojson=counties, locations='FIPS', color='Current to Peak Ratio',\n",
    "                           color_continuous_scale = ['green', 'yellow', 'red'],\n",
    "                           range_color=(0, 3),\n",
    "                           mapbox_style=\"carto-positron\",\n",
    "                           zoom=3, center = {\"lat\": 37.0902, \"lon\": -95.7129},\n",
    "                           opacity=0.5,\n",
    "                           labels={'COVID_Incidence_Rate':'COVID Incidence Rate 7/31/2020'}\n",
    "                          )\n",
    "fig.update_layout(margin={\"r\":0,\"t\":0,\"l\":0,\"b\":0})\n",
    "fig.write_image(\"img/curr_vs_peak_covid.png\")\n",
    "fig.write_html('img/curr_vs_peak_covid.html', auto_open=True)\n"
   ]
  },
  {
   "cell_type": "code",
   "execution_count": 24,
   "metadata": {},
   "outputs": [],
   "source": [
    "counties_df.to_csv('../data/covid_curr_to_peak_comparison_3x.csv')"
   ]
  },
  {
   "cell_type": "code",
   "execution_count": null,
   "metadata": {},
   "outputs": [],
   "source": []
  }
 ],
 "metadata": {
  "kernelspec": {
   "display_name": "Python 3",
   "language": "python",
   "name": "python3"
  },
  "language_info": {
   "codemirror_mode": {
    "name": "ipython",
    "version": 3
   },
   "file_extension": ".py",
   "mimetype": "text/x-python",
   "name": "python",
   "nbconvert_exporter": "python",
   "pygments_lexer": "ipython3",
   "version": "3.7.7"
  }
 },
 "nbformat": 4,
 "nbformat_minor": 4
}
